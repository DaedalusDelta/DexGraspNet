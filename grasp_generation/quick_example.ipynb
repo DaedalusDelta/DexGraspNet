{
 "cells": [
  {
   "cell_type": "code",
   "metadata": {
    "ExecuteTime": {
     "end_time": "2024-09-11T20:57:06.122276Z",
     "start_time": "2024-09-11T20:57:06.111886Z"
    }
   },
   "source": [
    "import os\n",
    "import random\n",
    "\n",
    "import pytorch_kinematics\n",
    "\n",
    "from utils.hand_model_lite import HandModelMJCFLite\n",
    "import numpy as np\n",
    "import transforms3d\n",
    "import torch\n",
    "import trimesh\n"
   ],
   "outputs": [],
   "execution_count": 14
  },
  {
   "cell_type": "code",
   "metadata": {
    "ExecuteTime": {
     "end_time": "2024-09-11T20:57:07.123222Z",
     "start_time": "2024-09-11T20:57:07.118481Z"
    }
   },
   "source": [
    "mesh_path = \"../data/meshdata\"\n",
    "data_path = \"../data/dataset\"\n",
    "\n",
    "use_visual_mesh = False\n",
    "\n",
    "hand_file = \"mjcf/shadow_hand_vis.xml\" if use_visual_mesh else \"mjcf/shadow_hand_wrist_free.xml\"\n",
    "\n",
    "joint_names = [\n",
    "    'robot0:FFJ3', 'robot0:FFJ2', 'robot0:FFJ1', 'robot0:FFJ0',\n",
    "    'robot0:MFJ3', 'robot0:MFJ2', 'robot0:MFJ1', 'robot0:MFJ0',\n",
    "    'robot0:RFJ3', 'robot0:RFJ2', 'robot0:RFJ1', 'robot0:RFJ0',\n",
    "    'robot0:LFJ4', 'robot0:LFJ3', 'robot0:LFJ2', 'robot0:LFJ1', 'robot0:LFJ0',\n",
    "    'robot0:THJ4', 'robot0:THJ3', 'robot0:THJ2', 'robot0:THJ1', 'robot0:THJ0'\n",
    "]\n",
    "translation_names = ['WRJTx', 'WRJTy', 'WRJTz']\n",
    "rot_names = ['WRJRx', 'WRJRy', 'WRJRz']\n"
   ],
   "outputs": [],
   "execution_count": 15
  },
  {
   "cell_type": "code",
   "metadata": {
    "ExecuteTime": {
     "end_time": "2024-09-11T20:57:08.208837Z",
     "start_time": "2024-09-11T20:57:08.176499Z"
    }
   },
   "source": [
    "hand_model = HandModelMJCFLite(\n",
    "    hand_file,\n",
    "    \"mjcf/meshes\")"
   ],
   "outputs": [
    {
     "ename": "AttributeError",
     "evalue": "module 'pytorch_kinematics' has no attribute 'build_chain_from_mjcf'",
     "output_type": "error",
     "traceback": [
      "\u001B[0;31m---------------------------------------------------------------------------\u001B[0m",
      "\u001B[0;31mAttributeError\u001B[0m                            Traceback (most recent call last)",
      "Cell \u001B[0;32mIn[16], line 1\u001B[0m\n\u001B[0;32m----> 1\u001B[0m hand_model \u001B[38;5;241m=\u001B[39m HandModelMJCFLite(\n\u001B[1;32m      2\u001B[0m     hand_file,\n\u001B[1;32m      3\u001B[0m     \u001B[38;5;124m\"\u001B[39m\u001B[38;5;124mmjcf/meshes\u001B[39m\u001B[38;5;124m\"\u001B[39m)\n",
      "File \u001B[0;32m~/Desktop/Courses/Research/DexGraspNet/grasp_generation/utils/hand_model_lite.py:30\u001B[0m, in \u001B[0;36mHandModelMJCFLite.__init__\u001B[0;34m(self, mjcf_path, mesh_path, device)\u001B[0m\n\u001B[1;32m     16\u001B[0m \u001B[38;5;250m\u001B[39m\u001B[38;5;124;03m\"\"\"\u001B[39;00m\n\u001B[1;32m     17\u001B[0m \u001B[38;5;124;03mCreate a Lite Hand Model for a MJCF robot\u001B[39;00m\n\u001B[1;32m     18\u001B[0m \u001B[38;5;124;03m\u001B[39;00m\n\u001B[0;32m   (...)\u001B[0m\n\u001B[1;32m     26\u001B[0m \u001B[38;5;124;03m    device for torch tensors\u001B[39;00m\n\u001B[1;32m     27\u001B[0m \u001B[38;5;124;03m\"\"\"\u001B[39;00m\n\u001B[1;32m     29\u001B[0m \u001B[38;5;28mself\u001B[39m\u001B[38;5;241m.\u001B[39mdevice \u001B[38;5;241m=\u001B[39m device\n\u001B[0;32m---> 30\u001B[0m \u001B[38;5;28mself\u001B[39m\u001B[38;5;241m.\u001B[39mchain \u001B[38;5;241m=\u001B[39m pk\u001B[38;5;241m.\u001B[39mbuild_chain_from_mjcf(\n\u001B[1;32m     31\u001B[0m     \u001B[38;5;28mopen\u001B[39m(mjcf_path)\u001B[38;5;241m.\u001B[39mread())\u001B[38;5;241m.\u001B[39mto(dtype\u001B[38;5;241m=\u001B[39mtorch\u001B[38;5;241m.\u001B[39mfloat, device\u001B[38;5;241m=\u001B[39mdevice)\n\u001B[1;32m     32\u001B[0m \u001B[38;5;28mself\u001B[39m\u001B[38;5;241m.\u001B[39mn_dofs \u001B[38;5;241m=\u001B[39m \u001B[38;5;28mlen\u001B[39m(\u001B[38;5;28mself\u001B[39m\u001B[38;5;241m.\u001B[39mchain\u001B[38;5;241m.\u001B[39mget_joint_parameter_names())\n\u001B[1;32m     34\u001B[0m \u001B[38;5;28mself\u001B[39m\u001B[38;5;241m.\u001B[39mmesh \u001B[38;5;241m=\u001B[39m {}\n",
      "\u001B[0;31mAttributeError\u001B[0m: module 'pytorch_kinematics' has no attribute 'build_chain_from_mjcf'"
     ]
    }
   ],
   "execution_count": 16
  },
  {
   "cell_type": "code",
   "metadata": {
    "ExecuteTime": {
     "end_time": "2024-09-11T20:57:09.904265Z",
     "start_time": "2024-09-11T20:57:09.899999Z"
    }
   },
   "source": [
    "grasp_code_list = []\n",
    "for code in os.listdir(data_path):\n",
    "    grasp_code_list.append(code[:-4])\n"
   ],
   "outputs": [],
   "execution_count": 17
  },
  {
   "cell_type": "code",
   "metadata": {
    "ExecuteTime": {
     "end_time": "2024-09-11T20:57:10.512880Z",
     "start_time": "2024-09-11T20:57:10.417763Z"
    }
   },
   "source": [
    "grasp_code = random.choice(grasp_code_list)\n",
    "grasp_data = np.load(\n",
    "    os.path.join(data_path, grasp_code+\".npy\"), allow_pickle=True)\n",
    "object_mesh_origin = trimesh.load(os.path.join(\n",
    "    mesh_path, grasp_code, \"coacd/decomposed.obj\"))\n",
    "print(grasp_code)\n"
   ],
   "outputs": [
    {
     "name": "stdout",
     "output_type": "stream",
     "text": [
      "mujoco-Ecoforms_Plant_Plate_S11Turquoise\n"
     ]
    }
   ],
   "execution_count": 18
  },
  {
   "cell_type": "code",
   "metadata": {
    "ExecuteTime": {
     "end_time": "2024-09-11T20:57:11.298682Z",
     "start_time": "2024-09-11T20:57:11.288796Z"
    }
   },
   "source": [
    "index = random.randint(0, len(grasp_data) - 1)\n",
    "\n",
    "\n",
    "qpos = grasp_data[index]['qpos']\n",
    "rot = np.array(transforms3d.euler.euler2mat(\n",
    "    *[qpos[name] for name in rot_names]))\n",
    "rot = rot[:, :2].T.ravel().tolist()\n",
    "hand_pose = torch.tensor([qpos[name] for name in translation_names] + rot + [qpos[name]\n",
    "                         for name in joint_names], dtype=torch.float, device=\"cpu\").unsqueeze(0)\n",
    "hand_model.set_parameters(hand_pose)\n",
    "hand_mesh = hand_model.get_trimesh_data(0)\n",
    "object_mesh = object_mesh_origin.copy().apply_scale(grasp_data[index][\"scale\"])\n"
   ],
   "outputs": [
    {
     "ename": "NameError",
     "evalue": "name 'hand_model' is not defined",
     "output_type": "error",
     "traceback": [
      "\u001B[0;31m---------------------------------------------------------------------------\u001B[0m",
      "\u001B[0;31mNameError\u001B[0m                                 Traceback (most recent call last)",
      "Cell \u001B[0;32mIn[19], line 10\u001B[0m\n\u001B[1;32m      7\u001B[0m rot \u001B[38;5;241m=\u001B[39m rot[:, :\u001B[38;5;241m2\u001B[39m]\u001B[38;5;241m.\u001B[39mT\u001B[38;5;241m.\u001B[39mravel()\u001B[38;5;241m.\u001B[39mtolist()\n\u001B[1;32m      8\u001B[0m hand_pose \u001B[38;5;241m=\u001B[39m torch\u001B[38;5;241m.\u001B[39mtensor([qpos[name] \u001B[38;5;28;01mfor\u001B[39;00m name \u001B[38;5;129;01min\u001B[39;00m translation_names] \u001B[38;5;241m+\u001B[39m rot \u001B[38;5;241m+\u001B[39m [qpos[name]\n\u001B[1;32m      9\u001B[0m                          \u001B[38;5;28;01mfor\u001B[39;00m name \u001B[38;5;129;01min\u001B[39;00m joint_names], dtype\u001B[38;5;241m=\u001B[39mtorch\u001B[38;5;241m.\u001B[39mfloat, device\u001B[38;5;241m=\u001B[39m\u001B[38;5;124m\"\u001B[39m\u001B[38;5;124mcpu\u001B[39m\u001B[38;5;124m\"\u001B[39m)\u001B[38;5;241m.\u001B[39munsqueeze(\u001B[38;5;241m0\u001B[39m)\n\u001B[0;32m---> 10\u001B[0m hand_model\u001B[38;5;241m.\u001B[39mset_parameters(hand_pose)\n\u001B[1;32m     11\u001B[0m hand_mesh \u001B[38;5;241m=\u001B[39m hand_model\u001B[38;5;241m.\u001B[39mget_trimesh_data(\u001B[38;5;241m0\u001B[39m)\n\u001B[1;32m     12\u001B[0m object_mesh \u001B[38;5;241m=\u001B[39m object_mesh_origin\u001B[38;5;241m.\u001B[39mcopy()\u001B[38;5;241m.\u001B[39mapply_scale(grasp_data[index][\u001B[38;5;124m\"\u001B[39m\u001B[38;5;124mscale\u001B[39m\u001B[38;5;124m\"\u001B[39m])\n",
      "\u001B[0;31mNameError\u001B[0m: name 'hand_model' is not defined"
     ]
    }
   ],
   "execution_count": 19
  },
  {
   "cell_type": "code",
   "metadata": {
    "ExecuteTime": {
     "end_time": "2024-09-11T20:57:12.546112Z",
     "start_time": "2024-09-11T20:57:12.533932Z"
    }
   },
   "source": [
    "(hand_mesh+object_mesh).show()\n"
   ],
   "outputs": [
    {
     "ename": "NameError",
     "evalue": "name 'hand_mesh' is not defined",
     "output_type": "error",
     "traceback": [
      "\u001B[0;31m---------------------------------------------------------------------------\u001B[0m",
      "\u001B[0;31mNameError\u001B[0m                                 Traceback (most recent call last)",
      "Cell \u001B[0;32mIn[20], line 1\u001B[0m\n\u001B[0;32m----> 1\u001B[0m (hand_mesh\u001B[38;5;241m+\u001B[39mobject_mesh)\u001B[38;5;241m.\u001B[39mshow()\n",
      "\u001B[0;31mNameError\u001B[0m: name 'hand_mesh' is not defined"
     ]
    }
   ],
   "execution_count": 20
  },
  {
   "metadata": {},
   "cell_type": "code",
   "outputs": [],
   "execution_count": null,
   "source": ""
  }
 ],
 "metadata": {
  "kernelspec": {
   "display_name": "Python 3",
   "language": "python",
   "name": "python3"
  },
  "language_info": {
   "codemirror_mode": {
    "name": "ipython",
    "version": 3
   },
   "file_extension": ".py",
   "mimetype": "text/x-python",
   "name": "python",
   "nbconvert_exporter": "python",
   "pygments_lexer": "ipython3",
   "version": "3.7.16"
  },
  "orig_nbformat": 4,
  "vscode": {
   "interpreter": {
    "hash": "2d4291a8a48b28165ac7232d5c96e1282ed596e61d078e48e9495becf16bfc7d"
   }
  }
 },
 "nbformat": 4,
 "nbformat_minor": 2
}
